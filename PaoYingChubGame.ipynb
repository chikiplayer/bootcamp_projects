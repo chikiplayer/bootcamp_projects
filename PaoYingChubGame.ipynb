{
  "nbformat": 4,
  "nbformat_minor": 0,
  "metadata": {
    "colab": {
      "provenance": [],
      "authorship_tag": "ABX9TyM+sXVlu7A7IBYoHtEJyLri",
      "include_colab_link": true
    },
    "kernelspec": {
      "name": "python3",
      "display_name": "Python 3"
    },
    "language_info": {
      "name": "python"
    }
  },
  "cells": [
    {
      "cell_type": "markdown",
      "metadata": {
        "id": "view-in-github",
        "colab_type": "text"
      },
      "source": [
        "<a href=\"https://colab.research.google.com/github/chikiplayer/bootcamp_projects/blob/main/PaoYingChubGame.ipynb\" target=\"_parent\"><img src=\"https://colab.research.google.com/assets/colab-badge.svg\" alt=\"Open In Colab\"/></a>"
      ]
    },
    {
      "cell_type": "markdown",
      "source": [
        "# homework\n",
        "1. pao ying chub => Python\n",
        "2. ATM class => at least 5 methods"
      ],
      "metadata": {
        "id": "LcDcB73EbkXg"
      }
    },
    {
      "cell_type": "markdown",
      "source": [
        "### Pao Ying Chub Game\n",
        "**rules game** <br>\n",
        "Paper win Paper <br>\n",
        "Scissor win Paper <br>\n",
        "Rock win Scissor <br>\n",
        "Rock draw Rock\n"
      ],
      "metadata": {
        "id": "sZWCJWVYbrFz"
      }
    },
    {
      "cell_type": "code",
      "source": [
        "import random"
      ],
      "metadata": {
        "id": "L4aMRoYibpGW"
      },
      "execution_count": null,
      "outputs": []
    },
    {
      "cell_type": "code",
      "source": [
        "drawnum = 0\n",
        "winnum = 0\n",
        "losenum = 0\n",
        "total = 0\n",
        "name = input(\"Your name: \")\n",
        "print(f\"Hi! {name}. Welcome to Pao Ying Chub Game\")\n",
        "print(\"How to play: 1.Rock 2.Scissor 3.Paper << Enter 1,2 or 3 >>\")\n",
        "\n",
        "while True:\n",
        "    option = [\"1.Rock\", \"2.Scissor\", \"3.Paper\"]\n",
        "    bot = random.randint(1,3)\n",
        "    player = int(input(f\"Your turn: \"))\n",
        "    if player == 1:\n",
        "        print(f\"You select: {option[player-1]}\")\n",
        "        if bot == 1:\n",
        "            print(\"Draw\")\n",
        "            drawnum += 1\n",
        "        elif bot == 2:\n",
        "            print(\"Win\")\n",
        "            winnum += 1\n",
        "        elif bot ==3:\n",
        "            print(\"Lose\")\n",
        "            losenum += 1\n",
        "        print(f\"Bot select: {option[bot-1]}\")\n",
        "        total += 1\n",
        "\n",
        "    elif player == 2:\n",
        "        print(f\"You select: {option[player-1]}\")\n",
        "        if bot == 1:\n",
        "            print(\"Lose\")\n",
        "            losenum += 1\n",
        "        elif bot == 2:\n",
        "            print(\"Draw\")\n",
        "            drawnum += 1\n",
        "        elif bot ==3:\n",
        "            print(\"Win\")\n",
        "            winnum += 1\n",
        "        print(f\"Bot select: {option[bot-1]}\")\n",
        "        total += 1\n",
        "    \n",
        "    elif player == 3:\n",
        "        print(f\"You select: {option[player-1]}\")\n",
        "        if bot == 1:\n",
        "            print(\"Win\")\n",
        "            winnum += 1\n",
        "        elif bot == 2:\n",
        "            print(\"Lose\")\n",
        "            losenum += 1\n",
        "        elif bot == 3:\n",
        "            print(\"draw\")\n",
        "            drawnum += 1\n",
        "        print(f\"Bot select: {option[player-1]}\")\n",
        "        total += 1\n",
        "    else:\n",
        "        print(\"Enter 1,2 or 3\")\n",
        "    \n",
        "    try_again = int(input(\"Do you want to end game? 0.Quit another number is continue game\"))\n",
        "    if try_again == 0:\n",
        "        total = winnum + drawnum + losenum\n",
        "        summary = print(f\"Player: {name} total: {total}  win: {winnum}  draw: {drawnum}  lose: {losenum}\")\n",
        "        print(\"Good Game :)\")\n",
        "        break\n",
        "    else:\n",
        "        print(f\"Round: {total+1}\")\n",
        "\n"
      ],
      "metadata": {
        "colab": {
          "base_uri": "https://localhost:8080/"
        },
        "id": "cWc9GxpTheRW",
        "outputId": "89e1577b-583d-4544-d8e7-569e7c86cb20"
      },
      "execution_count": null,
      "outputs": [
        {
          "output_type": "stream",
          "name": "stdout",
          "text": [
            "Your name: Jack\n",
            "Hi! Jack. Welcome to Pao Ying Chub Game\n",
            "How to play: 1.Rock 2.Scissor 3.Paper << Enter 1,2 or 3 >>\n",
            "Your turn: 1\n",
            "You select: 1.Rock\n",
            "Lose\n",
            "Bot select: 3.Paper\n",
            "Do you want to end game? 0.Quit another number is continue game2\n",
            "Round: 2\n",
            "Your turn: 3\n",
            "You select: 3.Paper\n",
            "Win\n",
            "Bot select: 3.Paper\n",
            "Do you want to end game? 0.Quit another number is continue game1\n",
            "Round: 3\n",
            "Your turn: 2\n",
            "You select: 2.Scissor\n",
            "Lose\n",
            "Bot select: 1.Rock\n",
            "Do you want to end game? 0.Quit another number is continue game0\n",
            "Player: Jack total: 3  win: 1  draw: 0  lose: 2\n",
            "Good Game :)\n"
          ]
        }
      ]
    }
  ]
}