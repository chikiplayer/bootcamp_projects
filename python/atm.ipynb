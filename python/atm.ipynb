{
  "nbformat": 4,
  "nbformat_minor": 0,
  "metadata": {
    "colab": {
      "provenance": [],
      "history_visible": true,
      "authorship_tag": "ABX9TyNM/679/ga7bV18WH9r9HnK",
      "include_colab_link": true
    },
    "kernelspec": {
      "name": "python3",
      "display_name": "Python 3"
    },
    "language_info": {
      "name": "python"
    }
  },
  "cells": [
    {
      "cell_type": "markdown",
      "metadata": {
        "id": "view-in-github",
        "colab_type": "text"
      },
      "source": [
        "<a href=\"https://colab.research.google.com/github/chikiplayer/bootcamp_projects/blob/main/atm.ipynb\" target=\"_parent\"><img src=\"https://colab.research.google.com/assets/colab-badge.svg\" alt=\"Open In Colab\"/></a>"
      ]
    },
    {
      "cell_type": "markdown",
      "source": [
        "# homework\n",
        "1. pao ying chub => Python\n",
        "2. ATM class => at least 5 methods"
      ],
      "metadata": {
        "id": "JQbBmJA_4_G9"
      }
    },
    {
      "cell_type": "markdown",
      "source": [
        "## ATM\n",
        "use class least 5 methods"
      ],
      "metadata": {
        "id": "_ZetTDHc5QW5"
      }
    },
    {
      "cell_type": "code",
      "execution_count": null,
      "metadata": {
        "id": "99b42i1p47Uq"
      },
      "outputs": [],
      "source": [
        "# ATM \n",
        "class ATM:\n",
        "    # double underscore => dunder\n",
        "    def __init__(self, name, balance, pin):\n",
        "        self.name = name\n",
        "        self.balance = balance\n",
        "        self.pin = pin\n",
        "    \n",
        "    def check_balance(self):\n",
        "        message = f\"Account: {self.name}, Balabce: {self.balance} baht\"\n",
        "        print(message)\n",
        "\n",
        "    def deposit(self, money):\n",
        "        self.balance = self.balance + money\n",
        "        print(f\"New balance {self.balance} Baht.\")\n",
        "        print(\"Deposit successfully.\")\n",
        "\n",
        "    def change_name(self, new_acc_name):\n",
        "        self.name = new_acc_name\n",
        "        print(f\"New name {self.name}\")\n",
        "        print(\"Your account name has been changed.\")\n",
        "\n",
        "    def withdraw(self, money):\n",
        "        if money > self.balance:\n",
        "            print(f\"Your balance {self.balance} Baht.\")\n",
        "            print(f\"Not enough\")\n",
        "        else:\n",
        "            self.balance = self.balance - money\n",
        "            print(f\"Withdraw {money} Baht\")\n",
        "            print(f\"Balance {self.balance}\")\n",
        "            print(f\"Seccessfully withdraw.\")\n",
        "    \n",
        "    def password(self,name, pin):\n",
        "        if self.name == name and self.pin == pin:\n",
        "            print(\"Login Seccessfully.\")\n",
        "            print(f\"Welcome {name}\")\n",
        "        else:\n",
        "            print(\"Your name or password is incorrect.\")\n",
        "\n",
        "    def change_password(self, new_pin):\n",
        "        self.pin = new_pin\n",
        "        print(f\"New pin: {self.pin}\")\n",
        "        print(\"Your pin has been chagned.\")\n",
        "    \n",
        "    def fast_withdraw(self):\n",
        "        print(\"Please select the withdraw amount\")\n",
        "        print(\"[1] 300 Baht  [2] 500 Baht  [3] 1000 Baht\")\n",
        "        button = int(input(\"Select button number: \"))\n",
        "        fcash = 0\n",
        "        if button == 1:\n",
        "            fcash = 300\n",
        "            if fcash > self.balance:\n",
        "                print(f\"Your balance: {self.balance} Baht\")\n",
        "                print(\"Your account has insufficent funds for this transaction.\")\n",
        "            else:\n",
        "                self.balance -= fcash\n",
        "                print(\"Withdraw successfully.\")\n",
        "                print(f\"You've withdraw {fcash} Baht.\")\n",
        "                print(f\"New balance {self.balance} Baht.\")\n",
        "        elif button == 2:\n",
        "            fcash = 500\n",
        "            if fcash > self.balance:\n",
        "                print(f\"Your balance: {self.balance} Baht.\")\n",
        "                print(\"Your account has insufficent funds for this transaction.\")\n",
        "            else:\n",
        "                self.balance -= fcash\n",
        "                print(\"Withdraw successfully.\")\n",
        "                print(f\"You've withdraw {fcash} Baht\")\n",
        "                print(f\"New balance {self.balance} Baht\")\n",
        "        elif button == 3:\n",
        "            fcash = 1000\n",
        "            if fcash > self.balance:\n",
        "                print(f\"Your balance: {self.balance} Baht.\")\n",
        "                print(\"Your account has insufficent funds for this transactin.\")\n",
        "            else:\n",
        "                self.balance -= fcash\n",
        "                print(\"Withdraw successfully.\")\n",
        "                print(f\"You've withdraw {fcash} Baht\")\n",
        "                print(f\"New balance {self.balance} Baht\")\n",
        "        else:\n",
        "            print(f\"{button} isn't valid number.\")\n",
        "\n"
      ]
    },
    {
      "cell_type": "code",
      "source": [
        "ktb = ATM(\"Beam\", 15000, 0000)"
      ],
      "metadata": {
        "id": "ajH9nQgn7yio"
      },
      "execution_count": null,
      "outputs": []
    },
    {
      "cell_type": "code",
      "source": [
        "ktb.check_balance()"
      ],
      "metadata": {
        "colab": {
          "base_uri": "https://localhost:8080/"
        },
        "id": "Us7z6NNZ75D_",
        "outputId": "dd291435-9740-4fec-c7e5-24aa2039a7fc"
      },
      "execution_count": null,
      "outputs": [
        {
          "output_type": "stream",
          "name": "stdout",
          "text": [
            "Account: Beam, Balabce: 15000 baht\n"
          ]
        }
      ]
    },
    {
      "cell_type": "code",
      "source": [
        "ktb.withdraw(25000)"
      ],
      "metadata": {
        "colab": {
          "base_uri": "https://localhost:8080/"
        },
        "id": "Z-_sUPqZ8DYi",
        "outputId": "90520242-ebec-41c9-b9b6-3bcf50a24b58"
      },
      "execution_count": null,
      "outputs": [
        {
          "output_type": "stream",
          "name": "stdout",
          "text": [
            "Your balance 15000 Baht.\n",
            "Not enough\n"
          ]
        }
      ]
    },
    {
      "cell_type": "code",
      "source": [
        "ktb.deposit(50000)"
      ],
      "metadata": {
        "colab": {
          "base_uri": "https://localhost:8080/"
        },
        "id": "EKARkqHWPWrL",
        "outputId": "e86fecf2-eec2-4702-eea7-5e3f797b3be6"
      },
      "execution_count": null,
      "outputs": [
        {
          "output_type": "stream",
          "name": "stdout",
          "text": [
            "New balance 65000 Baht.\n",
            "Deposit successfully.\n"
          ]
        }
      ]
    },
    {
      "cell_type": "code",
      "source": [
        "ktb.name"
      ],
      "metadata": {
        "id": "dUOn2bke8TIU",
        "colab": {
          "base_uri": "https://localhost:8080/",
          "height": 35
        },
        "outputId": "754f4a41-7833-478f-d0aa-63655f389bbf"
      },
      "execution_count": null,
      "outputs": [
        {
          "output_type": "execute_result",
          "data": {
            "text/plain": [
              "'Beam'"
            ],
            "application/vnd.google.colaboratory.intrinsic+json": {
              "type": "string"
            }
          },
          "metadata": {},
          "execution_count": 35
        }
      ]
    },
    {
      "cell_type": "code",
      "source": [
        "names = str(input(\"account: \"))\n",
        "pins = int(input(\"password: \"))\n",
        "if names.lower() == ktb.name.lower() and pins == ktb.pin:\n",
        "    print(\"passed!\")\n",
        "    print(\"\")\n",
        "else:\n",
        "    print(\"try again!\")"
      ],
      "metadata": {
        "colab": {
          "base_uri": "https://localhost:8080/"
        },
        "id": "dLxCTydNMO5d",
        "outputId": "ec73b537-a7cc-4f24-84b3-94c537ac62a4"
      },
      "execution_count": null,
      "outputs": [
        {
          "output_type": "stream",
          "name": "stdout",
          "text": [
            "account: beam\n",
            "password: 0000\n",
            "passed!\n",
            "\n"
          ]
        }
      ]
    },
    {
      "cell_type": "code",
      "source": [
        "ktb.fast_withdraw()"
      ],
      "metadata": {
        "colab": {
          "base_uri": "https://localhost:8080/"
        },
        "id": "3tSAPF_cOli2",
        "outputId": "5421f652-8082-4c1b-e098-47570e4c3dea"
      },
      "execution_count": null,
      "outputs": [
        {
          "output_type": "stream",
          "name": "stdout",
          "text": [
            "Please select the withdraw amount\n",
            "[1] 300 Baht  [2] 500 Baht  [3] 1000 Baht\n",
            "Select button number: 1\n",
            "Withdraw successfully.\n",
            "You've withdraw 300 Baht.\n",
            "New balance 64700 Baht.\n"
          ]
        }
      ]
    },
    {
      "cell_type": "code",
      "source": [],
      "metadata": {
        "id": "FMMQJw1lOn0X"
      },
      "execution_count": null,
      "outputs": []
    }
  ]
}
