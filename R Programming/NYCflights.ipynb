{
 "cells":[
  {
   "cell_type":"markdown",
   "source":[
    "# NYC Flights 2013 Analysis"
   ],
   "attachments":{
    
   },
   "metadata":{
    "datalore":{
     "node_id":"PG3VFIYoGL4kSB4SqTWMU7",
     "type":"MD",
     "hide_input_from_viewers":false,
     "hide_output_from_viewers":false,
     "report_properties":{
      "y":0
     }
    }
   }
  },
  {
   "cell_type":"markdown",
   "source":[
    "## Installing Packages"
   ],
   "attachments":{
    
   },
   "metadata":{
    "datalore":{
     "node_id":"IQGqK0irCKStEnXWWyo9iO",
     "type":"MD",
     "hide_input_from_viewers":false,
     "hide_output_from_viewers":false,
     "report_properties":{
      "y":3
     }
    }
   }
  },
  {
   "cell_type":"code",
   "source":[
    "install.packages(\"nycflights13\")"
   ],
   "execution_count":null,
   "outputs":[
    {
     "name":"stderr",
     "text":[
      "Updating HTML index of packages in '.Library'\n",
      "\n",
      "Making 'packages.html' ...\n",
      " done\n",
      "\n"
     ],
     "output_type":"stream"
    }
   ],
   "metadata":{
    "datalore":{
     "node_id":"yD0YEeZ9kxLaeyhBPHM3zS",
     "type":"CODE",
     "hide_input_from_viewers":false,
     "hide_output_from_viewers":false,
     "report_properties":{
      "y":6
     }
    }
   }
  },
  {
   "cell_type":"code",
   "source":[
    "install.packages(\"dplyr\")"
   ],
   "execution_count":null,
   "outputs":[
    {
     "name":"stderr",
     "text":[
      "also installing the dependencies ‘cli’, ‘lifecycle’, ‘rlang’, ‘vctrs’\n",
      "\n",
      "\n",
      "Warning message in install.packages(\"dplyr\"):\n",
      "“installation of package ‘vctrs’ had non-zero exit status”\n",
      "Warning message in install.packages(\"dplyr\"):\n",
      "“installation of package ‘dplyr’ had non-zero exit status”\n",
      "Updating HTML index of packages in '.Library'\n",
      "\n",
      "Making 'packages.html' ...\n",
      " done\n",
      "\n"
     ],
     "output_type":"stream"
    }
   ],
   "metadata":{
    "datalore":{
     "node_id":"pm8bNfSBrh503J7zQgdOge",
     "type":"CODE",
     "hide_input_from_viewers":false,
     "hide_output_from_viewers":false,
     "report_properties":{
      "y":13
     }
    }
   }
  },
  {
   "cell_type":"code",
   "source":[
    "library(dplyr)\n",
    "library(tidyverse)\n",
    "library(nycflights13)\n",
    "library(glue)"
   ],
   "execution_count":null,
   "outputs":[
    {
     "name":"stderr",
     "text":[
      "\n",
      "Attaching package: ‘dplyr’\n",
      "\n",
      "\n",
      "The following objects are masked from ‘package:stats’:\n",
      "\n",
      "    filter, lag\n",
      "\n",
      "\n",
      "The following objects are masked from ‘package:base’:\n",
      "\n",
      "    intersect, setdiff, setequal, union\n",
      "\n",
      "\n",
      "Warning message in system(\"timedatectl\", intern = TRUE):\n",
      "“running command 'timedatectl' had status 1”\n",
      "Warning message:\n",
      "“Failed to locate timezone database”\n",
      "── \u001b[1mAttaching packages\u001b[22m ─────────────────────────────────────── tidyverse 1.3.1 ──\n",
      "\n",
      "\u001b[32m✔\u001b[39m \u001b[34mggplot2\u001b[39m 3.3.5     \u001b[32m✔\u001b[39m \u001b[34mpurrr  \u001b[39m 0.3.4\n",
      "\u001b[32m✔\u001b[39m \u001b[34mtibble \u001b[39m 3.1.5     \u001b[32m✔\u001b[39m \u001b[34mstringr\u001b[39m 1.4.0\n",
      "\u001b[32m✔\u001b[39m \u001b[34mtidyr  \u001b[39m 1.1.4     \u001b[32m✔\u001b[39m \u001b[34mforcats\u001b[39m 0.5.1\n",
      "\u001b[32m✔\u001b[39m \u001b[34mreadr  \u001b[39m 2.0.2     \n",
      "\n",
      "── \u001b[1mConflicts\u001b[22m ────────────────────────────────────────── tidyverse_conflicts() ──\n",
      "\u001b[31m✖\u001b[39m \u001b[34mdplyr\u001b[39m::\u001b[32mfilter()\u001b[39m  masks \u001b[34mstats\u001b[39m::filter()\n",
      "\u001b[31m✖\u001b[39m \u001b[34mpurrr\u001b[39m::\u001b[32mflatten()\u001b[39m masks \u001b[34mjsonlite\u001b[39m::flatten()\n",
      "\u001b[31m✖\u001b[39m \u001b[34mdplyr\u001b[39m::\u001b[32mlag()\u001b[39m     masks \u001b[34mstats\u001b[39m::lag()\n",
      "\n",
      "\n",
      "Attaching package: ‘glue’\n",
      "\n",
      "\n",
      "The following object is masked from ‘package:dplyr’:\n",
      "\n",
      "    collapse\n",
      "\n",
      "\n"
     ],
     "output_type":"stream"
    }
   ],
   "metadata":{
    "datalore":{
     "node_id":"q0jJPgHL1PhJKFEX7bNCFt",
     "type":"CODE",
     "hide_input_from_viewers":false,
     "hide_output_from_viewers":false,
     "report_properties":{
      "y":23
     }
    }
   }
  },
  {
   "cell_type":"markdown",
   "source":[
    "There are 5 data sets in nycflights13 library\n",
    "- **airlines**: airline names\n",
    "- **airports**: airport metadata\n",
    "- **flights**: flights data\n",
    "- **planes**: plane metadata\n",
    "- **weather**: hourly weather data"
   ],
   "attachments":{
    
   },
   "metadata":{
    "datalore":{
     "node_id":"WyrwtGQljUCyTmeh8r8a4t",
     "type":"MD",
     "hide_input_from_viewers":false,
     "hide_output_from_viewers":false,
     "report_properties":{
      "y":37
     }
    }
   }
  },
  {
   "cell_type":"code",
   "source":[
    "glimpse(airlines)"
   ],
   "execution_count":null,
   "outputs":[
    {
     "name":"stdout",
     "text":[
      "Rows: 16\n",
      "Columns: 2\n",
      "$ carrier \u001b[3m\u001b[90m<chr>\u001b[39m\u001b[23m \"9E\", \"AA\", \"AS\", \"B6\", \"DL\", \"EV\", \"F9\", \"FL\", \"HA\", \"MQ\", \"O…\n",
      "$ name    \u001b[3m\u001b[90m<chr>\u001b[39m\u001b[23m \"Endeavor Air Inc.\", \"American Airlines Inc.\", \"Alaska Airline…\n"
     ],
     "output_type":"stream"
    }
   ],
   "metadata":{
    "datalore":{
     "node_id":"DptjActj50o64gEG5KktWx",
     "type":"CODE",
     "hide_input_from_viewers":false,
     "hide_output_from_viewers":false,
     "report_properties":{
      "y":44
     }
    }
   }
  },
  {
   "cell_type":"code",
   "source":[
    "glimpse(airports)"
   ],
   "execution_count":null,
   "outputs":[
    {
     "name":"stdout",
     "text":[
      "Rows: 1,458\n",
      "Columns: 8\n",
      "$ faa   \u001b[3m\u001b[90m<chr>\u001b[39m\u001b[23m \"04G\", \"06A\", \"06C\", \"06N\", \"09J\", \"0A9\", \"0G6\", \"0G7\", \"0P2\", \"…\n",
      "$ name  \u001b[3m\u001b[90m<chr>\u001b[39m\u001b[23m \"Lansdowne Airport\", \"Moton Field Municipal Airport\", \"Schaumbur…\n",
      "$ lat   \u001b[3m\u001b[90m<dbl>\u001b[39m\u001b[23m 41.13047, 32.46057, 41.98934, 41.43191, 31.07447, 36.37122, 41.4…\n",
      "$ lon   \u001b[3m\u001b[90m<dbl>\u001b[39m\u001b[23m -80.61958, -85.68003, -88.10124, -74.39156, -81.42778, -82.17342…\n",
      "$ alt   \u001b[3m\u001b[90m<dbl>\u001b[39m\u001b[23m 1044, 264, 801, 523, 11, 1593, 730, 492, 1000, 108, 409, 875, 10…\n",
      "$ tz    \u001b[3m\u001b[90m<dbl>\u001b[39m\u001b[23m -5, -6, -6, -5, -5, -5, -5, -5, -5, -8, -5, -6, -5, -5, -5, -5, …\n",
      "$ dst   \u001b[3m\u001b[90m<chr>\u001b[39m\u001b[23m \"A\", \"A\", \"A\", \"A\", \"A\", \"A\", \"A\", \"A\", \"U\", \"A\", \"A\", \"U\", \"A\",…\n",
      "$ tzone \u001b[3m\u001b[90m<chr>\u001b[39m\u001b[23m \"America\/New_York\", \"America\/Chicago\", \"America\/Chicago\", \"Ameri…\n"
     ],
     "output_type":"stream"
    }
   ],
   "metadata":{
    "datalore":{
     "node_id":"YNcztltHUKd69ARbMuYuSA",
     "type":"CODE",
     "hide_input_from_viewers":false,
     "hide_output_from_viewers":false,
     "report_properties":{
      "y":50
     }
    }
   }
  },
  {
   "cell_type":"code",
   "source":[
    "glimpse(flights)"
   ],
   "execution_count":null,
   "outputs":[
    {
     "name":"stdout",
     "text":[
      "Rows: 336,776\n",
      "Columns: 19\n",
      "$ year           \u001b[3m\u001b[90m<int>\u001b[39m\u001b[23m 2013, 2013, 2013, 2013, 2013, 2013, 2013, 2013, 2013, 2…\n",
      "$ month          \u001b[3m\u001b[90m<int>\u001b[39m\u001b[23m 1, 1, 1, 1, 1, 1, 1, 1, 1, 1, 1, 1, 1, 1, 1, 1, 1, 1, 1…\n",
      "$ day            \u001b[3m\u001b[90m<int>\u001b[39m\u001b[23m 1, 1, 1, 1, 1, 1, 1, 1, 1, 1, 1, 1, 1, 1, 1, 1, 1, 1, 1…\n",
      "$ dep_time       \u001b[3m\u001b[90m<int>\u001b[39m\u001b[23m 517, 533, 542, 544, 554, 554, 555, 557, 557, 558, 558, …\n",
      "$ sched_dep_time \u001b[3m\u001b[90m<int>\u001b[39m\u001b[23m 515, 529, 540, 545, 600, 558, 600, 600, 600, 600, 600, …\n",
      "$ dep_delay      \u001b[3m\u001b[90m<dbl>\u001b[39m\u001b[23m 2, 4, 2, -1, -6, -4, -5, -3, -3, -2, -2, -2, -2, -2, -1…\n",
      "$ arr_time       \u001b[3m\u001b[90m<int>\u001b[39m\u001b[23m 830, 850, 923, 1004, 812, 740, 913, 709, 838, 753, 849,…\n",
      "$ sched_arr_time \u001b[3m\u001b[90m<int>\u001b[39m\u001b[23m 819, 830, 850, 1022, 837, 728, 854, 723, 846, 745, 851,…\n",
      "$ arr_delay      \u001b[3m\u001b[90m<dbl>\u001b[39m\u001b[23m 11, 20, 33, -18, -25, 12, 19, -14, -8, 8, -2, -3, 7, -1…\n",
      "$ carrier        \u001b[3m\u001b[90m<chr>\u001b[39m\u001b[23m \"UA\", \"UA\", \"AA\", \"B6\", \"DL\", \"UA\", \"B6\", \"EV\", \"B6\", \"…\n",
      "$ flight         \u001b[3m\u001b[90m<int>\u001b[39m\u001b[23m 1545, 1714, 1141, 725, 461, 1696, 507, 5708, 79, 301, 4…\n",
      "$ tailnum        \u001b[3m\u001b[90m<chr>\u001b[39m\u001b[23m \"N14228\", \"N24211\", \"N619AA\", \"N804JB\", \"N668DN\", \"N394…\n",
      "$ origin         \u001b[3m\u001b[90m<chr>\u001b[39m\u001b[23m \"EWR\", \"LGA\", \"JFK\", \"JFK\", \"LGA\", \"EWR\", \"EWR\", \"LGA\",…\n",
      "$ dest           \u001b[3m\u001b[90m<chr>\u001b[39m\u001b[23m \"IAH\", \"IAH\", \"MIA\", \"BQN\", \"ATL\", \"ORD\", \"FLL\", \"IAD\",…\n",
      "$ air_time       \u001b[3m\u001b[90m<dbl>\u001b[39m\u001b[23m 227, 227, 160, 183, 116, 150, 158, 53, 140, 138, 149, 1…\n",
      "$ distance       \u001b[3m\u001b[90m<dbl>\u001b[39m\u001b[23m 1400, 1416, 1089, 1576, 762, 719, 1065, 229, 944, 733, …\n",
      "$ hour           \u001b[3m\u001b[90m<dbl>\u001b[39m\u001b[23m 5, 5, 5, 5, 6, 5, 6, 6, 6, 6, 6, 6, 6, 6, 6, 5, 6, 6, 6…\n",
      "$ minute         \u001b[3m\u001b[90m<dbl>\u001b[39m\u001b[23m 15, 29, 40, 45, 0, 58, 0, 0, 0, 0, 0, 0, 0, 0, 0, 59, 0…\n",
      "$ time_hour      \u001b[3m\u001b[90m<dttm>\u001b[39m\u001b[23m 2013-01-01 10:00:00, 2013-01-01 10:00:00, 2013-01-01 1…\n"
     ],
     "output_type":"stream"
    }
   ],
   "metadata":{
    "datalore":{
     "node_id":"GLGXht0lpDhJvvuC24GAqI",
     "type":"CODE",
     "hide_input_from_viewers":false,
     "hide_output_from_viewers":false,
     "report_properties":{
      "y":59
     }
    }
   }
  },
  {
   "cell_type":"code",
   "source":[
    "glimpse(planes)"
   ],
   "execution_count":null,
   "outputs":[
    {
     "name":"stdout",
     "text":[
      "Rows: 3,322\n",
      "Columns: 9\n",
      "$ tailnum      \u001b[3m\u001b[90m<chr>\u001b[39m\u001b[23m \"N10156\", \"N102UW\", \"N103US\", \"N104UW\", \"N10575\", \"N105UW…\n",
      "$ year         \u001b[3m\u001b[90m<int>\u001b[39m\u001b[23m 2004, 1998, 1999, 1999, 2002, 1999, 1999, 1999, 1999, 199…\n",
      "$ type         \u001b[3m\u001b[90m<chr>\u001b[39m\u001b[23m \"Fixed wing multi engine\", \"Fixed wing multi engine\", \"Fi…\n",
      "$ manufacturer \u001b[3m\u001b[90m<chr>\u001b[39m\u001b[23m \"EMBRAER\", \"AIRBUS INDUSTRIE\", \"AIRBUS INDUSTRIE\", \"AIRBU…\n",
      "$ model        \u001b[3m\u001b[90m<chr>\u001b[39m\u001b[23m \"EMB-145XR\", \"A320-214\", \"A320-214\", \"A320-214\", \"EMB-145…\n",
      "$ engines      \u001b[3m\u001b[90m<int>\u001b[39m\u001b[23m 2, 2, 2, 2, 2, 2, 2, 2, 2, 2, 2, 2, 2, 2, 2, 2, 2, 2, 2, …\n",
      "$ seats        \u001b[3m\u001b[90m<int>\u001b[39m\u001b[23m 55, 182, 182, 182, 55, 182, 182, 182, 182, 182, 55, 55, 5…\n",
      "$ speed        \u001b[3m\u001b[90m<int>\u001b[39m\u001b[23m NA, NA, NA, NA, NA, NA, NA, NA, NA, NA, NA, NA, NA, NA, N…\n",
      "$ engine       \u001b[3m\u001b[90m<chr>\u001b[39m\u001b[23m \"Turbo-fan\", \"Turbo-fan\", \"Turbo-fan\", \"Turbo-fan\", \"Turb…\n"
     ],
     "output_type":"stream"
    }
   ],
   "metadata":{
    "datalore":{
     "node_id":"JlDOS8M1zh2VcN6G70dyiI",
     "type":"CODE",
     "hide_input_from_viewers":false,
     "hide_output_from_viewers":false,
     "report_properties":{
      "y":72
     }
    }
   }
  },
  {
   "cell_type":"code",
   "source":[
    "# load data\n",
    "data(\"flights\")\n",
    "data(\"airports\")\n",
    "flights\n",
    "airports"
   ],
   "execution_count":null,
   "outputs":[
    {
     "data":{
      "text\/html":[
       "<table class=\"dataframe\">\n",
       "<caption>A tibble: 336776 × 19<\/caption>\n",
       "<thead>\n",
       "\t<tr><th scope=col>year<\/th><th scope=col>month<\/th><th scope=col>day<\/th><th scope=col>dep_time<\/th><th scope=col>sched_dep_time<\/th><th scope=col>dep_delay<\/th><th scope=col>arr_time<\/th><th scope=col>sched_arr_time<\/th><th scope=col>arr_delay<\/th><th scope=col>carrier<\/th><th scope=col>flight<\/th><th scope=col>tailnum<\/th><th scope=col>origin<\/th><th scope=col>dest<\/th><th scope=col>air_time<\/th><th scope=col>distance<\/th><th scope=col>hour<\/th><th scope=col>minute<\/th><th scope=col>time_hour<\/th><\/tr>\n",
       "\t<tr><th scope=col>&lt;int&gt;<\/th><th scope=col>&lt;int&gt;<\/th><th scope=col>&lt;int&gt;<\/th><th scope=col>&lt;int&gt;<\/th><th scope=col>&lt;int&gt;<\/th><th scope=col>&lt;dbl&gt;<\/th><th scope=col>&lt;int&gt;<\/th><th scope=col>&lt;int&gt;<\/th><th scope=col>&lt;dbl&gt;<\/th><th scope=col>&lt;chr&gt;<\/th><th scope=col>&lt;int&gt;<\/th><th scope=col>&lt;chr&gt;<\/th><th scope=col>&lt;chr&gt;<\/th><th scope=col>&lt;chr&gt;<\/th><th scope=col>&lt;dbl&gt;<\/th><th scope=col>&lt;dbl&gt;<\/th><th scope=col>&lt;dbl&gt;<\/th><th scope=col>&lt;dbl&gt;<\/th><th scope=col>&lt;dttm&gt;<\/th><\/tr>\n",
       "<\/thead>\n",
       "<tbody>\n",
       "\t<tr><td>2013<\/td><td>1<\/td><td>1<\/td><td>517<\/td><td>515<\/td><td> 2<\/td><td> 830<\/td><td> 819<\/td><td> 11<\/td><td>UA<\/td><td>1545<\/td><td>N14228<\/td><td>EWR<\/td><td>IAH<\/td><td>227<\/td><td>1400<\/td><td>5<\/td><td>15<\/td><td>2013-01-01 10:00:00<\/td><\/tr>\n",
       "\t<tr><td>2013<\/td><td>1<\/td><td>1<\/td><td>533<\/td><td>529<\/td><td> 4<\/td><td> 850<\/td><td> 830<\/td><td> 20<\/td><td>UA<\/td><td>1714<\/td><td>N24211<\/td><td>LGA<\/td><td>IAH<\/td><td>227<\/td><td>1416<\/td><td>5<\/td><td>29<\/td><td>2013-01-01 10:00:00<\/td><\/tr>\n",
       "\t<tr><td>2013<\/td><td>1<\/td><td>1<\/td><td>542<\/td><td>540<\/td><td> 2<\/td><td> 923<\/td><td> 850<\/td><td> 33<\/td><td>AA<\/td><td>1141<\/td><td>N619AA<\/td><td>JFK<\/td><td>MIA<\/td><td>160<\/td><td>1089<\/td><td>5<\/td><td>40<\/td><td>2013-01-01 10:00:00<\/td><\/tr>\n",
       "\t<tr><td>2013<\/td><td>1<\/td><td>1<\/td><td>544<\/td><td>545<\/td><td>-1<\/td><td>1004<\/td><td>1022<\/td><td>-18<\/td><td>B6<\/td><td> 725<\/td><td>N804JB<\/td><td>JFK<\/td><td>BQN<\/td><td>183<\/td><td>1576<\/td><td>5<\/td><td>45<\/td><td>2013-01-01 10:00:00<\/td><\/tr>\n",
       "\t<tr><td>2013<\/td><td>1<\/td><td>1<\/td><td>554<\/td><td>600<\/td><td>-6<\/td><td> 812<\/td><td> 837<\/td><td>-25<\/td><td>DL<\/td><td> 461<\/td><td>N668DN<\/td><td>LGA<\/td><td>ATL<\/td><td>116<\/td><td> 762<\/td><td>6<\/td><td> 0<\/td><td>2013-01-01 11:00:00<\/td><\/tr>\n",
       "\t<tr><td>2013<\/td><td>1<\/td><td>1<\/td><td>554<\/td><td>558<\/td><td>-4<\/td><td> 740<\/td><td> 728<\/td><td> 12<\/td><td>UA<\/td><td>1696<\/td><td>N39463<\/td><td>EWR<\/td><td>ORD<\/td><td>150<\/td><td> 719<\/td><td>5<\/td><td>58<\/td><td>2013-01-01 10:00:00<\/td><\/tr>\n",
       "\t<tr><td>2013<\/td><td>1<\/td><td>1<\/td><td>555<\/td><td>600<\/td><td>-5<\/td><td> 913<\/td><td> 854<\/td><td> 19<\/td><td>B6<\/td><td> 507<\/td><td>N516JB<\/td><td>EWR<\/td><td>FLL<\/td><td>158<\/td><td>1065<\/td><td>6<\/td><td> 0<\/td><td>2013-01-01 11:00:00<\/td><\/tr>\n",
       "\t<tr><td>2013<\/td><td>1<\/td><td>1<\/td><td>557<\/td><td>600<\/td><td>-3<\/td><td> 709<\/td><td> 723<\/td><td>-14<\/td><td>EV<\/td><td>5708<\/td><td>N829AS<\/td><td>LGA<\/td><td>IAD<\/td><td> 53<\/td><td> 229<\/td><td>6<\/td><td> 0<\/td><td>2013-01-01 11:00:00<\/td><\/tr>\n",
       "\t<tr><td>2013<\/td><td>1<\/td><td>1<\/td><td>557<\/td><td>600<\/td><td>-3<\/td><td> 838<\/td><td> 846<\/td><td> -8<\/td><td>B6<\/td><td>  79<\/td><td>N593JB<\/td><td>JFK<\/td><td>MCO<\/td><td>140<\/td><td> 944<\/td><td>6<\/td><td> 0<\/td><td>2013-01-01 11:00:00<\/td><\/tr>\n",
       "\t<tr><td>2013<\/td><td>1<\/td><td>1<\/td><td>558<\/td><td>600<\/td><td>-2<\/td><td> 753<\/td><td> 745<\/td><td>  8<\/td><td>AA<\/td><td> 301<\/td><td>N3ALAA<\/td><td>LGA<\/td><td>ORD<\/td><td>138<\/td><td> 733<\/td><td>6<\/td><td> 0<\/td><td>2013-01-01 11:00:00<\/td><\/tr>\n",
       "\t<tr><td>2013<\/td><td>1<\/td><td>1<\/td><td>558<\/td><td>600<\/td><td>-2<\/td><td> 849<\/td><td> 851<\/td><td> -2<\/td><td>B6<\/td><td>  49<\/td><td>N793JB<\/td><td>JFK<\/td><td>PBI<\/td><td>149<\/td><td>1028<\/td><td>6<\/td><td> 0<\/td><td>2013-01-01 11:00:00<\/td><\/tr>\n",
       "\t<tr><td>2013<\/td><td>1<\/td><td>1<\/td><td>558<\/td><td>600<\/td><td>-2<\/td><td> 853<\/td><td> 856<\/td><td> -3<\/td><td>B6<\/td><td>  71<\/td><td>N657JB<\/td><td>JFK<\/td><td>TPA<\/td><td>158<\/td><td>1005<\/td><td>6<\/td><td> 0<\/td><td>2013-01-01 11:00:00<\/td><\/tr>\n",
       "\t<tr><td>2013<\/td><td>1<\/td><td>1<\/td><td>558<\/td><td>600<\/td><td>-2<\/td><td> 924<\/td><td> 917<\/td><td>  7<\/td><td>UA<\/td><td> 194<\/td><td>N29129<\/td><td>JFK<\/td><td>LAX<\/td><td>345<\/td><td>2475<\/td><td>6<\/td><td> 0<\/td><td>2013-01-01 11:00:00<\/td><\/tr>\n",
       "\t<tr><td>2013<\/td><td>1<\/td><td>1<\/td><td>558<\/td><td>600<\/td><td>-2<\/td><td> 923<\/td><td> 937<\/td><td>-14<\/td><td>UA<\/td><td>1124<\/td><td>N53441<\/td><td>EWR<\/td><td>SFO<\/td><td>361<\/td><td>2565<\/td><td>6<\/td><td> 0<\/td><td>2013-01-01 11:00:00<\/td><\/tr>\n",
       "\t<tr><td>2013<\/td><td>1<\/td><td>1<\/td><td>559<\/td><td>600<\/td><td>-1<\/td><td> 941<\/td><td> 910<\/td><td> 31<\/td><td>AA<\/td><td> 707<\/td><td>N3DUAA<\/td><td>LGA<\/td><td>DFW<\/td><td>257<\/td><td>1389<\/td><td>6<\/td><td> 0<\/td><td>2013-01-01 11:00:00<\/td><\/tr>\n",
       "\t<tr><td>2013<\/td><td>1<\/td><td>1<\/td><td>559<\/td><td>559<\/td><td> 0<\/td><td> 702<\/td><td> 706<\/td><td> -4<\/td><td>B6<\/td><td>1806<\/td><td>N708JB<\/td><td>JFK<\/td><td>BOS<\/td><td> 44<\/td><td> 187<\/td><td>5<\/td><td>59<\/td><td>2013-01-01 10:00:00<\/td><\/tr>\n",
       "\t<tr><td>2013<\/td><td>1<\/td><td>1<\/td><td>559<\/td><td>600<\/td><td>-1<\/td><td> 854<\/td><td> 902<\/td><td> -8<\/td><td>UA<\/td><td>1187<\/td><td>N76515<\/td><td>EWR<\/td><td>LAS<\/td><td>337<\/td><td>2227<\/td><td>6<\/td><td> 0<\/td><td>2013-01-01 11:00:00<\/td><\/tr>\n",
       "\t<tr><td>2013<\/td><td>1<\/td><td>1<\/td><td>600<\/td><td>600<\/td><td> 0<\/td><td> 851<\/td><td> 858<\/td><td> -7<\/td><td>B6<\/td><td> 371<\/td><td>N595JB<\/td><td>LGA<\/td><td>FLL<\/td><td>152<\/td><td>1076<\/td><td>6<\/td><td> 0<\/td><td>2013-01-01 11:00:00<\/td><\/tr>\n",
       "\t<tr><td>2013<\/td><td>1<\/td><td>1<\/td><td>600<\/td><td>600<\/td><td> 0<\/td><td> 837<\/td><td> 825<\/td><td> 12<\/td><td>MQ<\/td><td>4650<\/td><td>N542MQ<\/td><td>LGA<\/td><td>ATL<\/td><td>134<\/td><td> 762<\/td><td>6<\/td><td> 0<\/td><td>2013-01-01 11:00:00<\/td><\/tr>\n",
       "\t<tr><td>2013<\/td><td>1<\/td><td>1<\/td><td>601<\/td><td>600<\/td><td> 1<\/td><td> 844<\/td><td> 850<\/td><td> -6<\/td><td>B6<\/td><td> 343<\/td><td>N644JB<\/td><td>EWR<\/td><td>PBI<\/td><td>147<\/td><td>1023<\/td><td>6<\/td><td> 0<\/td><td>2013-01-01 11:00:00<\/td><\/tr>\n",
       "\t<tr><td>2013<\/td><td>1<\/td><td>1<\/td><td>602<\/td><td>610<\/td><td>-8<\/td><td> 812<\/td><td> 820<\/td><td> -8<\/td><td>DL<\/td><td>1919<\/td><td>N971DL<\/td><td>LGA<\/td><td>MSP<\/td><td>170<\/td><td>1020<\/td><td>6<\/td><td>10<\/td><td>2013-01-01 11:00:00<\/td><\/tr>\n",
       "\t<tr><td>2013<\/td><td>1<\/td><td>1<\/td><td>602<\/td><td>605<\/td><td>-3<\/td><td> 821<\/td><td> 805<\/td><td> 16<\/td><td>MQ<\/td><td>4401<\/td><td>N730MQ<\/td><td>LGA<\/td><td>DTW<\/td><td>105<\/td><td> 502<\/td><td>6<\/td><td> 5<\/td><td>2013-01-01 11:00:00<\/td><\/tr>\n",
       "\t<tr><td>2013<\/td><td>1<\/td><td>1<\/td><td>606<\/td><td>610<\/td><td>-4<\/td><td> 858<\/td><td> 910<\/td><td>-12<\/td><td>AA<\/td><td>1895<\/td><td>N633AA<\/td><td>EWR<\/td><td>MIA<\/td><td>152<\/td><td>1085<\/td><td>6<\/td><td>10<\/td><td>2013-01-01 11:00:00<\/td><\/tr>\n",
       "\t<tr><td>2013<\/td><td>1<\/td><td>1<\/td><td>606<\/td><td>610<\/td><td>-4<\/td><td> 837<\/td><td> 845<\/td><td> -8<\/td><td>DL<\/td><td>1743<\/td><td>N3739P<\/td><td>JFK<\/td><td>ATL<\/td><td>128<\/td><td> 760<\/td><td>6<\/td><td>10<\/td><td>2013-01-01 11:00:00<\/td><\/tr>\n",
       "\t<tr><td>2013<\/td><td>1<\/td><td>1<\/td><td>607<\/td><td>607<\/td><td> 0<\/td><td> 858<\/td><td> 915<\/td><td>-17<\/td><td>UA<\/td><td>1077<\/td><td>N53442<\/td><td>EWR<\/td><td>MIA<\/td><td>157<\/td><td>1085<\/td><td>6<\/td><td> 7<\/td><td>2013-01-01 11:00:00<\/td><\/tr>\n",
       "\t<tr><td>2013<\/td><td>1<\/td><td>1<\/td><td>608<\/td><td>600<\/td><td> 8<\/td><td> 807<\/td><td> 735<\/td><td> 32<\/td><td>MQ<\/td><td>3768<\/td><td>N9EAMQ<\/td><td>EWR<\/td><td>ORD<\/td><td>139<\/td><td> 719<\/td><td>6<\/td><td> 0<\/td><td>2013-01-01 11:00:00<\/td><\/tr>\n",
       "\t<tr><td>2013<\/td><td>1<\/td><td>1<\/td><td>611<\/td><td>600<\/td><td>11<\/td><td> 945<\/td><td> 931<\/td><td> 14<\/td><td>UA<\/td><td> 303<\/td><td>N532UA<\/td><td>JFK<\/td><td>SFO<\/td><td>366<\/td><td>2586<\/td><td>6<\/td><td> 0<\/td><td>2013-01-01 11:00:00<\/td><\/tr>\n",
       "\t<tr><td>2013<\/td><td>1<\/td><td>1<\/td><td>613<\/td><td>610<\/td><td> 3<\/td><td> 925<\/td><td> 921<\/td><td>  4<\/td><td>B6<\/td><td> 135<\/td><td>N635JB<\/td><td>JFK<\/td><td>RSW<\/td><td>175<\/td><td>1074<\/td><td>6<\/td><td>10<\/td><td>2013-01-01 11:00:00<\/td><\/tr>\n",
       "\t<tr><td>2013<\/td><td>1<\/td><td>1<\/td><td>615<\/td><td>615<\/td><td> 0<\/td><td>1039<\/td><td>1100<\/td><td>-21<\/td><td>B6<\/td><td> 709<\/td><td>N794JB<\/td><td>JFK<\/td><td>SJU<\/td><td>182<\/td><td>1598<\/td><td>6<\/td><td>15<\/td><td>2013-01-01 11:00:00<\/td><\/tr>\n",
       "\t<tr><td>2013<\/td><td>1<\/td><td>1<\/td><td>615<\/td><td>615<\/td><td> 0<\/td><td> 833<\/td><td> 842<\/td><td> -9<\/td><td>DL<\/td><td> 575<\/td><td>N326NB<\/td><td>EWR<\/td><td>ATL<\/td><td>120<\/td><td> 746<\/td><td>6<\/td><td>15<\/td><td>2013-01-01 11:00:00<\/td><\/tr>\n",
       "\t<tr><td>⋮<\/td><td>⋮<\/td><td>⋮<\/td><td>⋮<\/td><td>⋮<\/td><td>⋮<\/td><td>⋮<\/td><td>⋮<\/td><td>⋮<\/td><td>⋮<\/td><td>⋮<\/td><td>⋮<\/td><td>⋮<\/td><td>⋮<\/td><td>⋮<\/td><td>⋮<\/td><td>⋮<\/td><td>⋮<\/td><td>⋮<\/td><\/tr>\n",
       "\t<tr><td>2013<\/td><td>9<\/td><td>30<\/td><td>2123<\/td><td>2125<\/td><td> -2<\/td><td>2223<\/td><td>2247<\/td><td>-24<\/td><td>EV<\/td><td>5489<\/td><td>N712EV<\/td><td>LGA<\/td><td>CHO<\/td><td> 45<\/td><td> 305<\/td><td>21<\/td><td>25<\/td><td>2013-10-01 01:00:00<\/td><\/tr>\n",
       "\t<tr><td>2013<\/td><td>9<\/td><td>30<\/td><td>2127<\/td><td>2129<\/td><td> -2<\/td><td>2314<\/td><td>2323<\/td><td> -9<\/td><td>EV<\/td><td>3833<\/td><td>N16546<\/td><td>EWR<\/td><td>CLT<\/td><td> 72<\/td><td> 529<\/td><td>21<\/td><td>29<\/td><td>2013-10-01 01:00:00<\/td><\/tr>\n",
       "\t<tr><td>2013<\/td><td>9<\/td><td>30<\/td><td>2128<\/td><td>2130<\/td><td> -2<\/td><td>2328<\/td><td>2359<\/td><td>-31<\/td><td>B6<\/td><td>  97<\/td><td>N807JB<\/td><td>JFK<\/td><td>DEN<\/td><td>213<\/td><td>1626<\/td><td>21<\/td><td>30<\/td><td>2013-10-01 01:00:00<\/td><\/tr>\n",
       "\t<tr><td>2013<\/td><td>9<\/td><td>30<\/td><td>2129<\/td><td>2059<\/td><td> 30<\/td><td>2230<\/td><td>2232<\/td><td> -2<\/td><td>EV<\/td><td>5048<\/td><td>N751EV<\/td><td>LGA<\/td><td>RIC<\/td><td> 45<\/td><td> 292<\/td><td>20<\/td><td>59<\/td><td>2013-10-01 00:00:00<\/td><\/tr>\n",
       "\t<tr><td>2013<\/td><td>9<\/td><td>30<\/td><td>2131<\/td><td>2140<\/td><td> -9<\/td><td>2225<\/td><td>2255<\/td><td>-30<\/td><td>MQ<\/td><td>3621<\/td><td>N807MQ<\/td><td>JFK<\/td><td>DCA<\/td><td> 36<\/td><td> 213<\/td><td>21<\/td><td>40<\/td><td>2013-10-01 01:00:00<\/td><\/tr>\n",
       "\t<tr><td>2013<\/td><td>9<\/td><td>30<\/td><td>2140<\/td><td>2140<\/td><td>  0<\/td><td>  10<\/td><td>  40<\/td><td>-30<\/td><td>AA<\/td><td> 185<\/td><td>N335AA<\/td><td>JFK<\/td><td>LAX<\/td><td>298<\/td><td>2475<\/td><td>21<\/td><td>40<\/td><td>2013-10-01 01:00:00<\/td><\/tr>\n",
       "\t<tr><td>2013<\/td><td>9<\/td><td>30<\/td><td>2142<\/td><td>2129<\/td><td> 13<\/td><td>2250<\/td><td>2239<\/td><td> 11<\/td><td>EV<\/td><td>4509<\/td><td>N12957<\/td><td>EWR<\/td><td>PWM<\/td><td> 47<\/td><td> 284<\/td><td>21<\/td><td>29<\/td><td>2013-10-01 01:00:00<\/td><\/tr>\n",
       "\t<tr><td>2013<\/td><td>9<\/td><td>30<\/td><td>2145<\/td><td>2145<\/td><td>  0<\/td><td> 115<\/td><td> 140<\/td><td>-25<\/td><td>B6<\/td><td>1103<\/td><td>N633JB<\/td><td>JFK<\/td><td>SJU<\/td><td>192<\/td><td>1598<\/td><td>21<\/td><td>45<\/td><td>2013-10-01 01:00:00<\/td><\/tr>\n",
       "\t<tr><td>2013<\/td><td>9<\/td><td>30<\/td><td>2147<\/td><td>2137<\/td><td> 10<\/td><td>  30<\/td><td>  27<\/td><td>  3<\/td><td>B6<\/td><td>1371<\/td><td>N627JB<\/td><td>LGA<\/td><td>FLL<\/td><td>139<\/td><td>1076<\/td><td>21<\/td><td>37<\/td><td>2013-10-01 01:00:00<\/td><\/tr>\n",
       "\t<tr><td>2013<\/td><td>9<\/td><td>30<\/td><td>2149<\/td><td>2156<\/td><td> -7<\/td><td>2245<\/td><td>2308<\/td><td>-23<\/td><td>UA<\/td><td> 523<\/td><td>N813UA<\/td><td>EWR<\/td><td>BOS<\/td><td> 37<\/td><td> 200<\/td><td>21<\/td><td>56<\/td><td>2013-10-01 01:00:00<\/td><\/tr>\n",
       "\t<tr><td>2013<\/td><td>9<\/td><td>30<\/td><td>2150<\/td><td>2159<\/td><td> -9<\/td><td>2250<\/td><td>2306<\/td><td>-16<\/td><td>EV<\/td><td>3842<\/td><td>N10575<\/td><td>EWR<\/td><td>MHT<\/td><td> 39<\/td><td> 209<\/td><td>21<\/td><td>59<\/td><td>2013-10-01 01:00:00<\/td><\/tr>\n",
       "\t<tr><td>2013<\/td><td>9<\/td><td>30<\/td><td>2159<\/td><td>1845<\/td><td>194<\/td><td>2344<\/td><td>2030<\/td><td>194<\/td><td>9E<\/td><td>3320<\/td><td>N906XJ<\/td><td>JFK<\/td><td>BUF<\/td><td> 50<\/td><td> 301<\/td><td>18<\/td><td>45<\/td><td>2013-09-30 22:00:00<\/td><\/tr>\n",
       "\t<tr><td>2013<\/td><td>9<\/td><td>30<\/td><td>2203<\/td><td>2205<\/td><td> -2<\/td><td>2339<\/td><td>2331<\/td><td>  8<\/td><td>EV<\/td><td>5311<\/td><td>N722EV<\/td><td>LGA<\/td><td>BGR<\/td><td> 61<\/td><td> 378<\/td><td>22<\/td><td> 5<\/td><td>2013-10-01 02:00:00<\/td><\/tr>\n",
       "\t<tr><td>2013<\/td><td>9<\/td><td>30<\/td><td>2207<\/td><td>2140<\/td><td> 27<\/td><td>2257<\/td><td>2250<\/td><td>  7<\/td><td>MQ<\/td><td>3660<\/td><td>N532MQ<\/td><td>LGA<\/td><td>BNA<\/td><td> 97<\/td><td> 764<\/td><td>21<\/td><td>40<\/td><td>2013-10-01 01:00:00<\/td><\/tr>\n",
       "\t<tr><td>2013<\/td><td>9<\/td><td>30<\/td><td>2211<\/td><td>2059<\/td><td> 72<\/td><td>2339<\/td><td>2242<\/td><td> 57<\/td><td>EV<\/td><td>4672<\/td><td>N12145<\/td><td>EWR<\/td><td>STL<\/td><td>120<\/td><td> 872<\/td><td>20<\/td><td>59<\/td><td>2013-10-01 00:00:00<\/td><\/tr>\n",
       "\t<tr><td>2013<\/td><td>9<\/td><td>30<\/td><td>2231<\/td><td>2245<\/td><td>-14<\/td><td>2335<\/td><td>2356<\/td><td>-21<\/td><td>B6<\/td><td> 108<\/td><td>N193JB<\/td><td>JFK<\/td><td>PWM<\/td><td> 48<\/td><td> 273<\/td><td>22<\/td><td>45<\/td><td>2013-10-01 02:00:00<\/td><\/tr>\n",
       "\t<tr><td>2013<\/td><td>9<\/td><td>30<\/td><td>2233<\/td><td>2113<\/td><td> 80<\/td><td> 112<\/td><td>  30<\/td><td> 42<\/td><td>UA<\/td><td> 471<\/td><td>N578UA<\/td><td>EWR<\/td><td>SFO<\/td><td>318<\/td><td>2565<\/td><td>21<\/td><td>13<\/td><td>2013-10-01 01:00:00<\/td><\/tr>\n",
       "\t<tr><td>2013<\/td><td>9<\/td><td>30<\/td><td>2235<\/td><td>2001<\/td><td>154<\/td><td>  59<\/td><td>2249<\/td><td>130<\/td><td>B6<\/td><td>1083<\/td><td>N804JB<\/td><td>JFK<\/td><td>MCO<\/td><td>123<\/td><td> 944<\/td><td>20<\/td><td> 1<\/td><td>2013-10-01 00:00:00<\/td><\/tr>\n",
       "\t<tr><td>2013<\/td><td>9<\/td><td>30<\/td><td>2237<\/td><td>2245<\/td><td> -8<\/td><td>2345<\/td><td>2353<\/td><td> -8<\/td><td>B6<\/td><td> 234<\/td><td>N318JB<\/td><td>JFK<\/td><td>BTV<\/td><td> 43<\/td><td> 266<\/td><td>22<\/td><td>45<\/td><td>2013-10-01 02:00:00<\/td><\/tr>\n",
       "\t<tr><td>2013<\/td><td>9<\/td><td>30<\/td><td>2240<\/td><td>2245<\/td><td> -5<\/td><td>2334<\/td><td>2351<\/td><td>-17<\/td><td>B6<\/td><td>1816<\/td><td>N354JB<\/td><td>JFK<\/td><td>SYR<\/td><td> 41<\/td><td> 209<\/td><td>22<\/td><td>45<\/td><td>2013-10-01 02:00:00<\/td><\/tr>\n",
       "\t<tr><td>2013<\/td><td>9<\/td><td>30<\/td><td>2240<\/td><td>2250<\/td><td>-10<\/td><td>2347<\/td><td>   7<\/td><td>-20<\/td><td>B6<\/td><td>2002<\/td><td>N281JB<\/td><td>JFK<\/td><td>BUF<\/td><td> 52<\/td><td> 301<\/td><td>22<\/td><td>50<\/td><td>2013-10-01 02:00:00<\/td><\/tr>\n",
       "\t<tr><td>2013<\/td><td>9<\/td><td>30<\/td><td>2241<\/td><td>2246<\/td><td> -5<\/td><td>2345<\/td><td>   1<\/td><td>-16<\/td><td>B6<\/td><td> 486<\/td><td>N346JB<\/td><td>JFK<\/td><td>ROC<\/td><td> 47<\/td><td> 264<\/td><td>22<\/td><td>46<\/td><td>2013-10-01 02:00:00<\/td><\/tr>\n",
       "\t<tr><td>2013<\/td><td>9<\/td><td>30<\/td><td>2307<\/td><td>2255<\/td><td> 12<\/td><td>2359<\/td><td>2358<\/td><td>  1<\/td><td>B6<\/td><td> 718<\/td><td>N565JB<\/td><td>JFK<\/td><td>BOS<\/td><td> 33<\/td><td> 187<\/td><td>22<\/td><td>55<\/td><td>2013-10-01 02:00:00<\/td><\/tr>\n",
       "\t<tr><td>2013<\/td><td>9<\/td><td>30<\/td><td>2349<\/td><td>2359<\/td><td>-10<\/td><td> 325<\/td><td> 350<\/td><td>-25<\/td><td>B6<\/td><td> 745<\/td><td>N516JB<\/td><td>JFK<\/td><td>PSE<\/td><td>196<\/td><td>1617<\/td><td>23<\/td><td>59<\/td><td>2013-10-01 03:00:00<\/td><\/tr>\n",
       "\t<tr><td>2013<\/td><td>9<\/td><td>30<\/td><td>  NA<\/td><td>1842<\/td><td> NA<\/td><td>  NA<\/td><td>2019<\/td><td> NA<\/td><td>EV<\/td><td>5274<\/td><td>N740EV<\/td><td>LGA<\/td><td>BNA<\/td><td> NA<\/td><td> 764<\/td><td>18<\/td><td>42<\/td><td>2013-09-30 22:00:00<\/td><\/tr>\n",
       "\t<tr><td>2013<\/td><td>9<\/td><td>30<\/td><td>  NA<\/td><td>1455<\/td><td> NA<\/td><td>  NA<\/td><td>1634<\/td><td> NA<\/td><td>9E<\/td><td>3393<\/td><td>NA    <\/td><td>JFK<\/td><td>DCA<\/td><td> NA<\/td><td> 213<\/td><td>14<\/td><td>55<\/td><td>2013-09-30 18:00:00<\/td><\/tr>\n",
       "\t<tr><td>2013<\/td><td>9<\/td><td>30<\/td><td>  NA<\/td><td>2200<\/td><td> NA<\/td><td>  NA<\/td><td>2312<\/td><td> NA<\/td><td>9E<\/td><td>3525<\/td><td>NA    <\/td><td>LGA<\/td><td>SYR<\/td><td> NA<\/td><td> 198<\/td><td>22<\/td><td> 0<\/td><td>2013-10-01 02:00:00<\/td><\/tr>\n",
       "\t<tr><td>2013<\/td><td>9<\/td><td>30<\/td><td>  NA<\/td><td>1210<\/td><td> NA<\/td><td>  NA<\/td><td>1330<\/td><td> NA<\/td><td>MQ<\/td><td>3461<\/td><td>N535MQ<\/td><td>LGA<\/td><td>BNA<\/td><td> NA<\/td><td> 764<\/td><td>12<\/td><td>10<\/td><td>2013-09-30 16:00:00<\/td><\/tr>\n",
       "\t<tr><td>2013<\/td><td>9<\/td><td>30<\/td><td>  NA<\/td><td>1159<\/td><td> NA<\/td><td>  NA<\/td><td>1344<\/td><td> NA<\/td><td>MQ<\/td><td>3572<\/td><td>N511MQ<\/td><td>LGA<\/td><td>CLE<\/td><td> NA<\/td><td> 419<\/td><td>11<\/td><td>59<\/td><td>2013-09-30 15:00:00<\/td><\/tr>\n",
       "\t<tr><td>2013<\/td><td>9<\/td><td>30<\/td><td>  NA<\/td><td> 840<\/td><td> NA<\/td><td>  NA<\/td><td>1020<\/td><td> NA<\/td><td>MQ<\/td><td>3531<\/td><td>N839MQ<\/td><td>LGA<\/td><td>RDU<\/td><td> NA<\/td><td> 431<\/td><td> 8<\/td><td>40<\/td><td>2013-09-30 12:00:00<\/td><\/tr>\n",
       "<\/tbody>\n",
       "<\/table>\n"
      ]
     },
     "metadata":{
      
     },
     "output_type":"display_data"
    },
    {
     "data":{
      "text\/html":[
       "<table class=\"dataframe\">\n",
       "<caption>A tibble: 1458 × 8<\/caption>\n",
       "<thead>\n",
       "\t<tr><th scope=col>faa<\/th><th scope=col>name<\/th><th scope=col>lat<\/th><th scope=col>lon<\/th><th scope=col>alt<\/th><th scope=col>tz<\/th><th scope=col>dst<\/th><th scope=col>tzone<\/th><\/tr>\n",
       "\t<tr><th scope=col>&lt;chr&gt;<\/th><th scope=col>&lt;chr&gt;<\/th><th scope=col>&lt;dbl&gt;<\/th><th scope=col>&lt;dbl&gt;<\/th><th scope=col>&lt;dbl&gt;<\/th><th scope=col>&lt;dbl&gt;<\/th><th scope=col>&lt;chr&gt;<\/th><th scope=col>&lt;chr&gt;<\/th><\/tr>\n",
       "<\/thead>\n",
       "<tbody>\n",
       "\t<tr><td>04G<\/td><td>Lansdowne Airport                   <\/td><td>41.13047<\/td><td> -80.61958<\/td><td>1044<\/td><td>-5<\/td><td>A<\/td><td>America\/New_York   <\/td><\/tr>\n",
       "\t<tr><td>06A<\/td><td>Moton Field Municipal Airport       <\/td><td>32.46057<\/td><td> -85.68003<\/td><td> 264<\/td><td>-6<\/td><td>A<\/td><td>America\/Chicago    <\/td><\/tr>\n",
       "\t<tr><td>06C<\/td><td>Schaumburg Regional                 <\/td><td>41.98934<\/td><td> -88.10124<\/td><td> 801<\/td><td>-6<\/td><td>A<\/td><td>America\/Chicago    <\/td><\/tr>\n",
       "\t<tr><td>06N<\/td><td>Randall Airport                     <\/td><td>41.43191<\/td><td> -74.39156<\/td><td> 523<\/td><td>-5<\/td><td>A<\/td><td>America\/New_York   <\/td><\/tr>\n",
       "\t<tr><td>09J<\/td><td>Jekyll Island Airport               <\/td><td>31.07447<\/td><td> -81.42778<\/td><td>  11<\/td><td>-5<\/td><td>A<\/td><td>America\/New_York   <\/td><\/tr>\n",
       "\t<tr><td>0A9<\/td><td>Elizabethton Municipal Airport      <\/td><td>36.37122<\/td><td> -82.17342<\/td><td>1593<\/td><td>-5<\/td><td>A<\/td><td>America\/New_York   <\/td><\/tr>\n",
       "\t<tr><td>0G6<\/td><td>Williams County Airport             <\/td><td>41.46731<\/td><td> -84.50678<\/td><td> 730<\/td><td>-5<\/td><td>A<\/td><td>America\/New_York   <\/td><\/tr>\n",
       "\t<tr><td>0G7<\/td><td>Finger Lakes Regional Airport       <\/td><td>42.88356<\/td><td> -76.78123<\/td><td> 492<\/td><td>-5<\/td><td>A<\/td><td>America\/New_York   <\/td><\/tr>\n",
       "\t<tr><td>0P2<\/td><td>Shoestring Aviation Airfield        <\/td><td>39.79482<\/td><td> -76.64719<\/td><td>1000<\/td><td>-5<\/td><td>U<\/td><td>America\/New_York   <\/td><\/tr>\n",
       "\t<tr><td>0S9<\/td><td>Jefferson County Intl               <\/td><td>48.05381<\/td><td>-122.81064<\/td><td> 108<\/td><td>-8<\/td><td>A<\/td><td>America\/Los_Angeles<\/td><\/tr>\n",
       "\t<tr><td>0W3<\/td><td>Harford County Airport              <\/td><td>39.56684<\/td><td> -76.20240<\/td><td> 409<\/td><td>-5<\/td><td>A<\/td><td>America\/New_York   <\/td><\/tr>\n",
       "\t<tr><td>10C<\/td><td>Galt Field Airport                  <\/td><td>42.40289<\/td><td> -88.37511<\/td><td> 875<\/td><td>-6<\/td><td>U<\/td><td>America\/Chicago    <\/td><\/tr>\n",
       "\t<tr><td>17G<\/td><td>Port Bucyrus-Crawford County Airport<\/td><td>40.78156<\/td><td> -82.97481<\/td><td>1003<\/td><td>-5<\/td><td>A<\/td><td>America\/New_York   <\/td><\/tr>\n",
       "\t<tr><td>19A<\/td><td>Jackson County Airport              <\/td><td>34.17586<\/td><td> -83.56160<\/td><td> 951<\/td><td>-5<\/td><td>U<\/td><td>America\/New_York   <\/td><\/tr>\n",
       "\t<tr><td>1A3<\/td><td>Martin Campbell Field Airport       <\/td><td>35.01581<\/td><td> -84.34683<\/td><td>1789<\/td><td>-5<\/td><td>A<\/td><td>America\/New_York   <\/td><\/tr>\n",
       "\t<tr><td>1B9<\/td><td>Mansfield Municipal                 <\/td><td>42.00013<\/td><td> -71.19677<\/td><td> 122<\/td><td>-5<\/td><td>A<\/td><td>America\/New_York   <\/td><\/tr>\n",
       "\t<tr><td>1C9<\/td><td>Frazier Lake Airpark                <\/td><td>54.01333<\/td><td>-124.76833<\/td><td> 152<\/td><td>-8<\/td><td>A<\/td><td>America\/Vancouver  <\/td><\/tr>\n",
       "\t<tr><td>1CS<\/td><td>Clow International Airport          <\/td><td>41.69597<\/td><td> -88.12923<\/td><td> 670<\/td><td>-6<\/td><td>U<\/td><td>America\/Chicago    <\/td><\/tr>\n",
       "\t<tr><td>1G3<\/td><td>Kent State Airport                  <\/td><td>41.15139<\/td><td> -81.41511<\/td><td>1134<\/td><td>-5<\/td><td>A<\/td><td>America\/New_York   <\/td><\/tr>\n",
       "\t<tr><td>1G4<\/td><td>Grand Canyon West Airport           <\/td><td>35.89990<\/td><td>-113.81567<\/td><td>4813<\/td><td>-7<\/td><td>A<\/td><td>America\/Phoenix    <\/td><\/tr>\n",
       "\t<tr><td>1H2<\/td><td>Effingham Memorial Airport          <\/td><td>39.07000<\/td><td> -88.53400<\/td><td> 585<\/td><td>-6<\/td><td>A<\/td><td>America\/Chicago    <\/td><\/tr>\n",
       "\t<tr><td>1OH<\/td><td>Fortman Airport                     <\/td><td>40.55533<\/td><td> -84.38662<\/td><td> 885<\/td><td>-5<\/td><td>U<\/td><td>America\/New_York   <\/td><\/tr>\n",
       "\t<tr><td>1RL<\/td><td>Point Roberts Airpark               <\/td><td>48.97972<\/td><td>-123.07889<\/td><td>  10<\/td><td>-8<\/td><td>A<\/td><td>America\/Los_Angeles<\/td><\/tr>\n",
       "\t<tr><td>23M<\/td><td>Clarke CO                           <\/td><td>32.05170<\/td><td> -88.44340<\/td><td> 320<\/td><td>-6<\/td><td>A<\/td><td>America\/Chicago    <\/td><\/tr>\n",
       "\t<tr><td>24C<\/td><td>Lowell City Airport                 <\/td><td>42.95392<\/td><td> -85.34391<\/td><td> 681<\/td><td>-5<\/td><td>A<\/td><td>America\/New_York   <\/td><\/tr>\n",
       "\t<tr><td>24J<\/td><td>Suwannee County Airport             <\/td><td>30.30013<\/td><td> -83.02469<\/td><td> 104<\/td><td>-5<\/td><td>A<\/td><td>America\/New_York   <\/td><\/tr>\n",
       "\t<tr><td>25D<\/td><td>Forest Lake Airport                 <\/td><td>45.24775<\/td><td> -92.99439<\/td><td> 925<\/td><td>-6<\/td><td>A<\/td><td>America\/Chicago    <\/td><\/tr>\n",
       "\t<tr><td>29D<\/td><td>Grove City Airport                  <\/td><td>41.14603<\/td><td> -80.16775<\/td><td>1371<\/td><td>-5<\/td><td>A<\/td><td>America\/New_York   <\/td><\/tr>\n",
       "\t<tr><td>2A0<\/td><td>Mark Anton Airport                  <\/td><td>35.48625<\/td><td> -84.93108<\/td><td> 718<\/td><td>-5<\/td><td>A<\/td><td>America\/New_York   <\/td><\/tr>\n",
       "\t<tr><td>2B2<\/td><td>Plum Island Airport                 <\/td><td>42.79536<\/td><td> -70.83944<\/td><td>  11<\/td><td>-5<\/td><td>A<\/td><td>America\/New_York   <\/td><\/tr>\n",
       "\t<tr><td>⋮<\/td><td>⋮<\/td><td>⋮<\/td><td>⋮<\/td><td>⋮<\/td><td>⋮<\/td><td>⋮<\/td><td>⋮<\/td><\/tr>\n",
       "\t<tr><td>X59<\/td><td>Valkaria Municipal                  <\/td><td>27.96086<\/td><td> -80.55833<\/td><td>  26<\/td><td>-5<\/td><td>A<\/td><td>America\/New_York   <\/td><\/tr>\n",
       "\t<tr><td>XFL<\/td><td>Flagler County Airport              <\/td><td>29.28210<\/td><td> -81.12120<\/td><td>  33<\/td><td>-5<\/td><td>A<\/td><td>America\/New_York   <\/td><\/tr>\n",
       "\t<tr><td>XNA<\/td><td>NW Arkansas Regional                <\/td><td>36.28187<\/td><td> -94.30681<\/td><td>1287<\/td><td>-6<\/td><td>A<\/td><td>America\/Chicago    <\/td><\/tr>\n",
       "\t<tr><td>XZK<\/td><td>Amherst Amtrak Station AMM          <\/td><td>42.37500<\/td><td> -72.51139<\/td><td> 258<\/td><td>-5<\/td><td>A<\/td><td>America\/New_York   <\/td><\/tr>\n",
       "\t<tr><td>Y51<\/td><td>Municipal Airport                   <\/td><td>43.57936<\/td><td> -90.89647<\/td><td>1292<\/td><td>-6<\/td><td>A<\/td><td>America\/Chicago    <\/td><\/tr>\n",
       "\t<tr><td>Y72<\/td><td>Bloyer Field                        <\/td><td>43.97622<\/td><td> -90.48061<\/td><td> 966<\/td><td>-6<\/td><td>A<\/td><td>America\/Chicago    <\/td><\/tr>\n",
       "\t<tr><td>YAK<\/td><td>Yakutat                             <\/td><td>59.30120<\/td><td>-139.39370<\/td><td>  33<\/td><td>-9<\/td><td>A<\/td><td>NA                 <\/td><\/tr>\n",
       "\t<tr><td>YIP<\/td><td>Willow Run                          <\/td><td>42.23793<\/td><td> -83.53041<\/td><td> 716<\/td><td>-5<\/td><td>A<\/td><td>America\/New_York   <\/td><\/tr>\n",
       "\t<tr><td>YKM<\/td><td>Yakima Air Terminal McAllister Field<\/td><td>46.56820<\/td><td>-120.54400<\/td><td>1095<\/td><td>-8<\/td><td>A<\/td><td>America\/Los_Angeles<\/td><\/tr>\n",
       "\t<tr><td>YKN<\/td><td>Chan Gurney                         <\/td><td>42.87110<\/td><td> -97.39690<\/td><td>1200<\/td><td>-6<\/td><td>A<\/td><td>America\/Chicago    <\/td><\/tr>\n",
       "\t<tr><td>YNG<\/td><td>Youngstown Warren Rgnl              <\/td><td>41.26074<\/td><td> -80.67910<\/td><td>1196<\/td><td>-5<\/td><td>A<\/td><td>America\/New_York   <\/td><\/tr>\n",
       "\t<tr><td>YUM<\/td><td>Yuma Mcas Yuma Intl                 <\/td><td>32.65658<\/td><td>-114.60598<\/td><td> 216<\/td><td>-7<\/td><td>N<\/td><td>America\/Phoenix    <\/td><\/tr>\n",
       "\t<tr><td>Z84<\/td><td>Clear                               <\/td><td>64.30120<\/td><td>-149.12014<\/td><td> 552<\/td><td>-9<\/td><td>A<\/td><td>America\/Anchorage  <\/td><\/tr>\n",
       "\t<tr><td>ZBP<\/td><td>Penn Station                        <\/td><td>39.30722<\/td><td> -76.61556<\/td><td>  66<\/td><td>-5<\/td><td>A<\/td><td>America\/New_York   <\/td><\/tr>\n",
       "\t<tr><td>ZFV<\/td><td>Philadelphia 30th St Station        <\/td><td>39.95570<\/td><td> -75.18200<\/td><td>   0<\/td><td>-5<\/td><td>A<\/td><td>America\/New_York   <\/td><\/tr>\n",
       "\t<tr><td>ZPH<\/td><td>Municipal Airport                   <\/td><td>28.22806<\/td><td> -82.15583<\/td><td>  90<\/td><td>-5<\/td><td>A<\/td><td>America\/New_York   <\/td><\/tr>\n",
       "\t<tr><td>ZRA<\/td><td>Atlantic City Rail Terminal         <\/td><td>39.36650<\/td><td> -74.44200<\/td><td>   8<\/td><td>-5<\/td><td>A<\/td><td>America\/New_York   <\/td><\/tr>\n",
       "\t<tr><td>ZRD<\/td><td>Train Station                       <\/td><td>37.53430<\/td><td> -77.42945<\/td><td>  26<\/td><td>-5<\/td><td>A<\/td><td>America\/New_York   <\/td><\/tr>\n",
       "\t<tr><td>ZRP<\/td><td>Newark Penn Station                 <\/td><td>40.73472<\/td><td> -74.16417<\/td><td>   0<\/td><td>-5<\/td><td>A<\/td><td>America\/New_York   <\/td><\/tr>\n",
       "\t<tr><td>ZRT<\/td><td>Hartford Union Station              <\/td><td>41.76888<\/td><td> -72.68150<\/td><td>   0<\/td><td>-5<\/td><td>A<\/td><td>America\/New_York   <\/td><\/tr>\n",
       "\t<tr><td>ZRZ<\/td><td>New Carrollton Rail Station         <\/td><td>38.94800<\/td><td> -76.87190<\/td><td>  39<\/td><td>-5<\/td><td>A<\/td><td>America\/New_York   <\/td><\/tr>\n",
       "\t<tr><td>ZSF<\/td><td>Springfield Amtrak Station          <\/td><td>42.10600<\/td><td> -72.59305<\/td><td>  65<\/td><td>-5<\/td><td>A<\/td><td>America\/New_York   <\/td><\/tr>\n",
       "\t<tr><td>ZSY<\/td><td>Scottsdale Airport                  <\/td><td>33.62289<\/td><td>-111.91053<\/td><td>1519<\/td><td>-7<\/td><td>A<\/td><td>America\/Phoenix    <\/td><\/tr>\n",
       "\t<tr><td>ZTF<\/td><td>Stamford Amtrak Station             <\/td><td>41.04694<\/td><td> -73.54149<\/td><td>   0<\/td><td>-5<\/td><td>A<\/td><td>America\/New_York   <\/td><\/tr>\n",
       "\t<tr><td>ZTY<\/td><td>Boston Back Bay Station             <\/td><td>42.34780<\/td><td> -71.07500<\/td><td>  20<\/td><td>-5<\/td><td>A<\/td><td>America\/New_York   <\/td><\/tr>\n",
       "\t<tr><td>ZUN<\/td><td>Black Rock                          <\/td><td>35.08323<\/td><td>-108.79178<\/td><td>6454<\/td><td>-7<\/td><td>A<\/td><td>America\/Denver     <\/td><\/tr>\n",
       "\t<tr><td>ZVE<\/td><td>New Haven Rail Station              <\/td><td>41.29867<\/td><td> -72.92599<\/td><td>   7<\/td><td>-5<\/td><td>A<\/td><td>America\/New_York   <\/td><\/tr>\n",
       "\t<tr><td>ZWI<\/td><td>Wilmington Amtrak Station           <\/td><td>39.73667<\/td><td> -75.55167<\/td><td>   0<\/td><td>-5<\/td><td>A<\/td><td>America\/New_York   <\/td><\/tr>\n",
       "\t<tr><td>ZWU<\/td><td>Washington Union Station            <\/td><td>38.89746<\/td><td> -77.00643<\/td><td>  76<\/td><td>-5<\/td><td>A<\/td><td>America\/New_York   <\/td><\/tr>\n",
       "\t<tr><td>ZYP<\/td><td>Penn Station                        <\/td><td>40.75050<\/td><td> -73.99350<\/td><td>  35<\/td><td>-5<\/td><td>A<\/td><td>America\/New_York   <\/td><\/tr>\n",
       "<\/tbody>\n",
       "<\/table>\n"
      ]
     },
     "metadata":{
      
     },
     "output_type":"display_data"
    }
   ],
   "metadata":{
    "datalore":{
     "node_id":"vBMLoUBnYmMcIGpKpanU4f",
     "type":"CODE",
     "hide_input_from_viewers":false,
     "hide_output_from_viewers":false,
     "report_properties":{
      "y":82
     }
    }
   }
  },
  {
   "cell_type":"markdown",
   "source":[
    "### Finding the percentage of missing values in flight\n",
    "- complete value = 97%\n",
    "- missing value = 3%"
   ],
   "attachments":{
    
   },
   "metadata":{
    "datalore":{
     "node_id":"hShgUhwPK3haWA7vrvl9pM",
     "type":"MD",
     "hide_input_from_viewers":false,
     "hide_output_from_viewers":false,
     "report_properties":{
      "y":236
     }
    }
   }
  },
  {
   "cell_type":"code",
   "source":[
    "sum(complete.cases(flights))\/nrow(flights)"
   ],
   "execution_count":null,
   "outputs":[
    {
     "data":{
      "text\/html":[
       "0.971999192341497"
      ]
     },
     "metadata":{
      
     },
     "output_type":"display_data"
    }
   ],
   "metadata":{
    "datalore":{
     "node_id":"ywxk0Os23jV64Nlpa5tex7",
     "type":"CODE",
     "hide_input_from_viewers":false,
     "hide_output_from_viewers":false,
     "report_properties":{
      "y":241
     }
    }
   }
  },
  {
   "cell_type":"markdown",
   "source":[
    "## Business Question "
   ],
   "attachments":{
    
   },
   "metadata":{
    "datalore":{
     "node_id":"Sd0TFtp9QUgF0DVuw8Ef6J",
     "type":"MD",
     "hide_input_from_viewers":false,
     "hide_output_from_viewers":false,
     "report_properties":{
      "y":245
     }
    }
   }
  },
  {
   "cell_type":"markdown",
   "source":[
    "### Q1: Most depart airports in January 2013"
   ],
   "attachments":{
    
   },
   "metadata":{
    "datalore":{
     "node_id":"gX87G5HdGBLduzTlrvVSqw",
     "type":"MD",
     "hide_input_from_viewers":false,
     "hide_output_from_viewers":false,
     "report_properties":{
      "y":248
     }
    }
   }
  },
  {
   "cell_type":"code",
   "source":[
    "dep <- flights %>% \n",
    "  filter(month == 1) %>% \n",
    "  group_by(dest) %>% \n",
    "  count(dest) %>% \n",
    "  arrange(desc(n)) %>% \n",
    "  rename(times = n) %>% \n",
    "  head(10)\n",
    "View(dep)"
   ],
   "execution_count":null,
   "outputs":[
    {
     "data":{
      "text\/html":[
       "<table class=\"dataframe\">\n",
       "<caption>A grouped_df: 10 × 2<\/caption>\n",
       "<thead>\n",
       "\t<tr><th scope=col>dest<\/th><th scope=col>times<\/th><\/tr>\n",
       "\t<tr><th scope=col>&lt;chr&gt;<\/th><th scope=col>&lt;int&gt;<\/th><\/tr>\n",
       "<\/thead>\n",
       "<tbody>\n",
       "\t<tr><td>ATL<\/td><td>1396<\/td><\/tr>\n",
       "\t<tr><td>ORD<\/td><td>1269<\/td><\/tr>\n",
       "\t<tr><td>BOS<\/td><td>1245<\/td><\/tr>\n",
       "\t<tr><td>MCO<\/td><td>1175<\/td><\/tr>\n",
       "\t<tr><td>FLL<\/td><td>1161<\/td><\/tr>\n",
       "\t<tr><td>LAX<\/td><td>1159<\/td><\/tr>\n",
       "\t<tr><td>CLT<\/td><td>1058<\/td><\/tr>\n",
       "\t<tr><td>MIA<\/td><td> 981<\/td><\/tr>\n",
       "\t<tr><td>SFO<\/td><td> 889<\/td><\/tr>\n",
       "\t<tr><td>DCA<\/td><td> 865<\/td><\/tr>\n",
       "<\/tbody>\n",
       "<\/table>\n"
      ]
     },
     "metadata":{
      
     },
     "output_type":"display_data"
    }
   ],
   "metadata":{
    "datalore":{
     "node_id":"mDNqjtARyu9NqBFecoRMrr",
     "type":"CODE",
     "hide_input_from_viewers":false,
     "hide_output_from_viewers":false,
     "report_properties":{
      "y":251
     }
    }
   }
  },
  {
   "cell_type":"markdown",
   "source":[
    "### Q2: Which flights has short delay"
   ],
   "attachments":{
    
   },
   "metadata":{
    "datalore":{
     "node_id":"p5EYFbR6zfCMQPRBgD6F9v",
     "type":"MD",
     "hide_input_from_viewers":false,
     "hide_output_from_viewers":false,
     "report_properties":{
      "y":266
     }
    }
   }
  },
  {
   "cell_type":"code",
   "source":[
    "delay <- flights %>% \n",
    "  group_by(carrier) %>% \n",
    "  mutate(ab = replace_na(arr_delay, mean(arr_delay, na.rm = T))) %>% \n",
    "  summarise(avg_delay = mean(ab)) %>% \n",
    "  left_join(airlines, by = \"carrier\") %>% \n",
    "  arrange(avg_delay)\n",
    "\n",
    "options(digits = 2)\n",
    "View(delay)"
   ],
   "execution_count":null,
   "outputs":[
    {
     "data":{
      "text\/html":[
       "<table class=\"dataframe\">\n",
       "<caption>A tibble: 16 × 3<\/caption>\n",
       "<thead>\n",
       "\t<tr><th scope=col>carrier<\/th><th scope=col>avg_delay<\/th><th scope=col>name<\/th><\/tr>\n",
       "\t<tr><th scope=col>&lt;chr&gt;<\/th><th scope=col>&lt;dbl&gt;<\/th><th scope=col>&lt;chr&gt;<\/th><\/tr>\n",
       "<\/thead>\n",
       "<tbody>\n",
       "\t<tr><td>AS<\/td><td>-9.93<\/td><td>Alaska Airlines Inc.       <\/td><\/tr>\n",
       "\t<tr><td>HA<\/td><td>-6.92<\/td><td>Hawaiian Airlines Inc.     <\/td><\/tr>\n",
       "\t<tr><td>AA<\/td><td> 0.36<\/td><td>American Airlines Inc.     <\/td><\/tr>\n",
       "\t<tr><td>DL<\/td><td> 1.64<\/td><td>Delta Air Lines Inc.       <\/td><\/tr>\n",
       "\t<tr><td>VX<\/td><td> 1.76<\/td><td>Virgin America             <\/td><\/tr>\n",
       "\t<tr><td>US<\/td><td> 2.13<\/td><td>US Airways Inc.            <\/td><\/tr>\n",
       "\t<tr><td>UA<\/td><td> 3.56<\/td><td>United Air Lines Inc.      <\/td><\/tr>\n",
       "\t<tr><td>9E<\/td><td> 7.38<\/td><td>Endeavor Air Inc.          <\/td><\/tr>\n",
       "\t<tr><td>B6<\/td><td> 9.46<\/td><td>JetBlue Airways            <\/td><\/tr>\n",
       "\t<tr><td>WN<\/td><td> 9.65<\/td><td>Southwest Airlines Co.     <\/td><\/tr>\n",
       "\t<tr><td>MQ<\/td><td>10.77<\/td><td>Envoy Air                  <\/td><\/tr>\n",
       "\t<tr><td>OO<\/td><td>11.93<\/td><td>SkyWest Airlines Inc.      <\/td><\/tr>\n",
       "\t<tr><td>YV<\/td><td>15.56<\/td><td>Mesa Airlines Inc.         <\/td><\/tr>\n",
       "\t<tr><td>EV<\/td><td>15.80<\/td><td>ExpressJet Airlines Inc.   <\/td><\/tr>\n",
       "\t<tr><td>FL<\/td><td>20.12<\/td><td>AirTran Airways Corporation<\/td><\/tr>\n",
       "\t<tr><td>F9<\/td><td>21.92<\/td><td>Frontier Airlines Inc.     <\/td><\/tr>\n",
       "<\/tbody>\n",
       "<\/table>\n"
      ]
     },
     "metadata":{
      
     },
     "output_type":"display_data"
    }
   ],
   "metadata":{
    "datalore":{
     "node_id":"sMGZmzQjSbkNg9TkZa7mkx",
     "type":"CODE",
     "hide_input_from_viewers":false,
     "hide_output_from_viewers":false,
     "report_properties":{
      "y":269
     }
    }
   }
  },
  {
   "cell_type":"markdown",
   "source":[
    "### Q3: Longest flight in each airline"
   ],
   "attachments":{
    
   },
   "metadata":{
    "datalore":{
     "node_id":"3l6wKPzZZFxtOoS1bcHPxk",
     "type":"MD",
     "hide_input_from_viewers":false,
     "hide_output_from_viewers":false,
     "report_properties":{
      "y":272
     }
    }
   }
  },
  {
   "cell_type":"code",
   "source":[
    "long <- flights %>% \n",
    "  select(air_time, carrier) %>% \n",
    "  group_by(carrier) %>% \n",
    "  arrange(desc(air_time)) %>% \n",
    "  slice(1) %>% \n",
    "  left_join(airlines, by = \"carrier\") %>% \n",
    "  arrange(desc(air_time))\n",
    "View(long)"
   ],
   "execution_count":null,
   "outputs":[
    {
     "data":{
      "text\/html":[
       "<table class=\"dataframe\">\n",
       "<caption>A grouped_df: 16 × 3<\/caption>\n",
       "<thead>\n",
       "\t<tr><th scope=col>air_time<\/th><th scope=col>carrier<\/th><th scope=col>name<\/th><\/tr>\n",
       "\t<tr><th scope=col>&lt;dbl&gt;<\/th><th scope=col>&lt;chr&gt;<\/th><th scope=col>&lt;chr&gt;<\/th><\/tr>\n",
       "<\/thead>\n",
       "<tbody>\n",
       "\t<tr><td>695<\/td><td>UA<\/td><td>United Air Lines Inc.      <\/td><\/tr>\n",
       "\t<tr><td>691<\/td><td>HA<\/td><td>Hawaiian Airlines Inc.     <\/td><\/tr>\n",
       "\t<tr><td>490<\/td><td>DL<\/td><td>Delta Air Lines Inc.       <\/td><\/tr>\n",
       "\t<tr><td>426<\/td><td>AA<\/td><td>American Airlines Inc.     <\/td><\/tr>\n",
       "\t<tr><td>413<\/td><td>B6<\/td><td>JetBlue Airways            <\/td><\/tr>\n",
       "\t<tr><td>406<\/td><td>VX<\/td><td>Virgin America             <\/td><\/tr>\n",
       "\t<tr><td>392<\/td><td>AS<\/td><td>Alaska Airlines Inc.       <\/td><\/tr>\n",
       "\t<tr><td>362<\/td><td>WN<\/td><td>Southwest Airlines Co.     <\/td><\/tr>\n",
       "\t<tr><td>359<\/td><td>US<\/td><td>US Airways Inc.            <\/td><\/tr>\n",
       "\t<tr><td>286<\/td><td>EV<\/td><td>ExpressJet Airlines Inc.   <\/td><\/tr>\n",
       "\t<tr><td>278<\/td><td>F9<\/td><td>Frontier Airlines Inc.     <\/td><\/tr>\n",
       "\t<tr><td>272<\/td><td>9E<\/td><td>Endeavor Air Inc.          <\/td><\/tr>\n",
       "\t<tr><td>236<\/td><td>MQ<\/td><td>Envoy Air                  <\/td><\/tr>\n",
       "\t<tr><td>177<\/td><td>OO<\/td><td>SkyWest Airlines Inc.      <\/td><\/tr>\n",
       "\t<tr><td>161<\/td><td>FL<\/td><td>AirTran Airways Corporation<\/td><\/tr>\n",
       "\t<tr><td>122<\/td><td>YV<\/td><td>Mesa Airlines Inc.         <\/td><\/tr>\n",
       "<\/tbody>\n",
       "<\/table>\n"
      ]
     },
     "metadata":{
      
     },
     "output_type":"display_data"
    }
   ],
   "metadata":{
    "datalore":{
     "node_id":"njZrl4YJfTPFMgrkOlUBOc",
     "type":"CODE",
     "hide_input_from_viewers":false,
     "hide_output_from_viewers":false,
     "report_properties":{
      "y":275
     }
    }
   }
  },
  {
   "cell_type":"markdown",
   "source":[
    "### Q4: Longest distance in each airline"
   ],
   "attachments":{
    
   },
   "metadata":{
    "datalore":{
     "node_id":"bgepO0o1ACc1xicw8lZmLy",
     "type":"MD",
     "hide_input_from_viewers":false,
     "hide_output_from_viewers":false,
     "report_properties":{
      "y":278
     }
    }
   }
  },
  {
   "cell_type":"code",
   "source":[
    "dist <- flights %>% \n",
    "  select(distance, carrier) %>% \n",
    "  group_by(carrier) %>% \n",
    "  arrange(desc(distance)) %>% \n",
    "  slice(1) %>% \n",
    "  left_join(airlines,by = \"carrier\") %>% \n",
    "  arrange(desc(distance))\n",
    "  \n",
    "View(dist)"
   ],
   "execution_count":null,
   "outputs":[
    {
     "data":{
      "text\/html":[
       "<table class=\"dataframe\">\n",
       "<caption>A grouped_df: 16 × 3<\/caption>\n",
       "<thead>\n",
       "\t<tr><th scope=col>distance<\/th><th scope=col>carrier<\/th><th scope=col>name<\/th><\/tr>\n",
       "\t<tr><th scope=col>&lt;dbl&gt;<\/th><th scope=col>&lt;chr&gt;<\/th><th scope=col>&lt;chr&gt;<\/th><\/tr>\n",
       "<\/thead>\n",
       "<tbody>\n",
       "\t<tr><td>4983<\/td><td>HA<\/td><td>Hawaiian Airlines Inc.     <\/td><\/tr>\n",
       "\t<tr><td>4963<\/td><td>UA<\/td><td>United Air Lines Inc.      <\/td><\/tr>\n",
       "\t<tr><td>2586<\/td><td>AA<\/td><td>American Airlines Inc.     <\/td><\/tr>\n",
       "\t<tr><td>2586<\/td><td>B6<\/td><td>JetBlue Airways            <\/td><\/tr>\n",
       "\t<tr><td>2586<\/td><td>DL<\/td><td>Delta Air Lines Inc.       <\/td><\/tr>\n",
       "\t<tr><td>2586<\/td><td>VX<\/td><td>Virgin America             <\/td><\/tr>\n",
       "\t<tr><td>2402<\/td><td>AS<\/td><td>Alaska Airlines Inc.       <\/td><\/tr>\n",
       "\t<tr><td>2153<\/td><td>US<\/td><td>US Airways Inc.            <\/td><\/tr>\n",
       "\t<tr><td>2133<\/td><td>WN<\/td><td>Southwest Airlines Co.     <\/td><\/tr>\n",
       "\t<tr><td>1620<\/td><td>F9<\/td><td>Frontier Airlines Inc.     <\/td><\/tr>\n",
       "\t<tr><td>1587<\/td><td>9E<\/td><td>Endeavor Air Inc.          <\/td><\/tr>\n",
       "\t<tr><td>1389<\/td><td>EV<\/td><td>ExpressJet Airlines Inc.   <\/td><\/tr>\n",
       "\t<tr><td>1147<\/td><td>MQ<\/td><td>Envoy Air                  <\/td><\/tr>\n",
       "\t<tr><td>1008<\/td><td>OO<\/td><td>SkyWest Airlines Inc.      <\/td><\/tr>\n",
       "\t<tr><td> 762<\/td><td>FL<\/td><td>AirTran Airways Corporation<\/td><\/tr>\n",
       "\t<tr><td> 544<\/td><td>YV<\/td><td>Mesa Airlines Inc.         <\/td><\/tr>\n",
       "<\/tbody>\n",
       "<\/table>\n"
      ]
     },
     "metadata":{
      
     },
     "output_type":"display_data"
    }
   ],
   "metadata":{
    "datalore":{
     "node_id":"cLsarW4h1szRFtR6UPKHGF",
     "type":"CODE",
     "hide_input_from_viewers":false,
     "hide_output_from_viewers":false,
     "report_properties":{
      "y":281
     }
    }
   }
  },
  {
   "cell_type":"markdown",
   "source":[
    "### Q5:Top5 destination in November"
   ],
   "attachments":{
    
   },
   "metadata":{
    "datalore":{
     "node_id":"m1jAZbQUjTf11ByYa5t8It",
     "type":"MD",
     "hide_input_from_viewers":false,
     "hide_output_from_viewers":false,
     "report_properties":{
      "y":284
     }
    }
   }
  },
  {
   "cell_type":"code",
   "source":[
    "dest <- flights %>% \n",
    "  filter(month == 11) %>% \n",
    "  count(dest) %>% \n",
    "  arrange(desc(n)) %>% \n",
    "  rename(LandedCount = n) %>% \n",
    "  head(5) \n",
    "\n",
    "View(dest)"
   ],
   "execution_count":null,
   "outputs":[
    {
     "data":{
      "text\/html":[
       "<table class=\"dataframe\">\n",
       "<caption>A tibble: 5 × 2<\/caption>\n",
       "<thead>\n",
       "\t<tr><th scope=col>dest<\/th><th scope=col>LandedCount<\/th><\/tr>\n",
       "\t<tr><th scope=col>&lt;chr&gt;<\/th><th scope=col>&lt;int&gt;<\/th><\/tr>\n",
       "<\/thead>\n",
       "<tbody>\n",
       "\t<tr><td>ATL<\/td><td>1384<\/td><\/tr>\n",
       "\t<tr><td>ORD<\/td><td>1370<\/td><\/tr>\n",
       "\t<tr><td>LAX<\/td><td>1336<\/td><\/tr>\n",
       "\t<tr><td>BOS<\/td><td>1235<\/td><\/tr>\n",
       "\t<tr><td>CLT<\/td><td>1187<\/td><\/tr>\n",
       "<\/tbody>\n",
       "<\/table>\n"
      ]
     },
     "metadata":{
      
     },
     "output_type":"display_data"
    }
   ],
   "metadata":{
    "datalore":{
     "node_id":"Xz8j6tOgEktGoTtWOIylr1",
     "type":"CODE",
     "hide_input_from_viewers":false,
     "hide_output_from_viewers":false,
     "report_properties":{
      "y":287
     }
    }
   }
  },
  {
   "cell_type":"markdown",
   "source":[
    "### OPTION_Q: How many flights in Semtempber? Show Tops5"
   ],
   "attachments":{
    
   },
   "metadata":{
    "datalore":{
     "node_id":"cTqcf08F1rKS20yv9KMx70",
     "type":"MD",
     "hide_input_from_viewers":false,
     "hide_output_from_viewers":false,
     "report_properties":{
      "y":290
     }
    }
   }
  },
  {
   "cell_type":"code",
   "source":[
    "SepFlight <- flights %>%\n",
    "filter(month == 9) %>%\n",
    "group_by(dest) %>%\n",
    "count(dest) %>%\n",
    "arrange(desc(n)) %>%\n",
    "rename(flight = dest,times = n) %>%\n",
    "head(5)\n",
    "\n",
    "View(SepFlight)"
   ],
   "execution_count":null,
   "outputs":[
    {
     "data":{
      "text\/html":[
       "<table class=\"dataframe\">\n",
       "<caption>A grouped_df: 5 × 2<\/caption>\n",
       "<thead>\n",
       "\t<tr><th scope=col>flight<\/th><th scope=col>times<\/th><\/tr>\n",
       "\t<tr><th scope=col>&lt;chr&gt;<\/th><th scope=col>&lt;int&gt;<\/th><\/tr>\n",
       "<\/thead>\n",
       "<tbody>\n",
       "\t<tr><td>ORD<\/td><td>1582<\/td><\/tr>\n",
       "\t<tr><td>LAX<\/td><td>1384<\/td><\/tr>\n",
       "\t<tr><td>ATL<\/td><td>1364<\/td><\/tr>\n",
       "\t<tr><td>BOS<\/td><td>1307<\/td><\/tr>\n",
       "\t<tr><td>CLT<\/td><td>1222<\/td><\/tr>\n",
       "<\/tbody>\n",
       "<\/table>\n"
      ]
     },
     "metadata":{
      
     },
     "output_type":"display_data"
    }
   ],
   "metadata":{
    "datalore":{
     "node_id":"FhGUF7aIco2L5gLRG6UNXm",
     "type":"CODE",
     "hide_input_from_viewers":false,
     "hide_output_from_viewers":false,
     "report_properties":{
      "y":293
     }
    }
   }
  }
 ],
 "metadata":{
  "kernelspec":{
   "display_name":"R",
   "language":"r",
   "name":"ir"
  },
  "datalore":{
   "version":1,
   "computation_mode":"JUPYTER",
   "package_manager":"conda",
   "base_environment":"minimal",
   "packages":[
    
   ]
  }
 },
 "nbformat":4,
 "nbformat_minor":4
}